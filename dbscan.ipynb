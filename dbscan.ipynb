{
 "cells": [
  {
   "cell_type": "code",
   "execution_count": 317,
   "metadata": {},
   "outputs": [],
   "source": [
    "import pandas as pnd\n",
    "import heapq\n",
    "from collections import Counter\n",
    "\n",
    "iris = pnd.read_csv('iris.csv')\n",
    "#source: https://raw.githubusercontent.com/uiuc-cse/data-fa14/gh-pages/data/iris.csv"
   ]
  },
  {
   "cell_type": "code",
   "execution_count": 318,
   "metadata": {
    "collapsed": true
   },
   "outputs": [],
   "source": [
    "import numpy as np\n",
    "\n",
    "data_train = np.array(iris.iloc[:, 0:4])"
   ]
  },
  {
   "cell_type": "code",
   "execution_count": 319,
   "metadata": {
    "collapsed": true
   },
   "outputs": [],
   "source": [
    "DB = data_train\n",
    "DB_len = len(DB)\n",
    "label = [None]*DB_len\n",
    "eps = 2.35\n",
    "minPts = 5"
   ]
  },
  {
   "cell_type": "code",
   "execution_count": 320,
   "metadata": {
    "collapsed": true
   },
   "outputs": [],
   "source": [
    "def distFunc(Q, P):\n",
    "    return np.linalg.norm(DB[Q]-DB[P])"
   ]
  },
  {
   "cell_type": "code",
   "execution_count": 321,
   "metadata": {},
   "outputs": [],
   "source": [
    "def RangeQuery(i):\n",
    "    Neighbors = []\n",
    "    for j in range(DB_len):\n",
    "        if distFunc(i, j) <= eps:\n",
    "            Neighbors.append(j)\n",
    "    return Neighbors"
   ]
  },
  {
   "cell_type": "code",
   "execution_count": 322,
   "metadata": {},
   "outputs": [],
   "source": [
    "def DFS(S,j,C):\n",
    "    if label[S[j]] == -1: label[S[j]] = C\n",
    "    if label[S[j]] == None:\n",
    "        label[S[j]] = C\n",
    "        N = RangeQuery(S[j])\n",
    "        if len(N) >= minPts:\n",
    "            for i in range(len(N)):\n",
    "                S.append(N[i])\n",
    "        if len(S) != j+1:\n",
    "            DFS(S,j+1,C)"
   ]
  },
  {
   "cell_type": "code",
   "execution_count": 323,
   "metadata": {},
   "outputs": [],
   "source": [
    "def DBSCAN():\n",
    "    C = 0\n",
    "    for i in range(DB_len):\n",
    "        if label[i] != None: continue\n",
    "        N = RangeQuery(i)\n",
    "        if len(N) < minPts:\n",
    "            label[i] = -1\n",
    "            continue\n",
    "\n",
    "        C = C + 1\n",
    "        label[i] = C\n",
    "        S = [x for x in N if not x == i]\n",
    "        if len(S) != 0:\n",
    "            DFS(S,0,C)"
   ]
  },
  {
   "cell_type": "code",
   "execution_count": 324,
   "metadata": {},
   "outputs": [
    {
     "name": "stdout",
     "output_type": "stream",
     "text": [
      "Cluster number: 5\n",
      "Outlier number: 0\n",
      "Labels:\n",
      "[1, 1, 1, 1, 1, 1, 1, 1, 1, 1, 1, 1, 1, 1, 1, 1, 1, 1, 1, 1, 1, 1, 1, 1, 1, 1, 1, 1, 1, 1, 1, 1, 1, 1, 1, 1, 1, 1, 1, 1, 1, 1, 1, 1, 1, 1, 1, 1, 1, 1, 2, 2, 2, 2, 2, 2, 2, 1, 2, 2, 3, 2, 2, 2, 2, 2, 2, 2, 2, 2, 2, 2, 2, 2, 2, 2, 2, 2, 2, 2, 2, 2, 2, 2, 2, 2, 2, 2, 2, 2, 2, 2, 2, 4, 2, 2, 2, 2, 1, 2, 2, 2, 2, 2, 2, 2, 2, 2, 2, 2, 2, 2, 2, 2, 2, 2, 2, 2, 5, 2, 2, 2, 2, 2, 2, 2, 2, 2, 2, 2, 2, 2, 2, 2, 2, 2, 2, 2, 2, 2, 2, 2, 2, 2, 2, 2, 2, 2, 2, 2]\n"
     ]
    }
   ],
   "source": [
    "DBSCAN()\n",
    "\n",
    "outlier = Counter(label)[-1]\n",
    "cluster = len([x for x in list(set(label)) if x != -1])\n",
    "\n",
    "print \"Cluster number: \" + str(cluster)\n",
    "print \"Outlier number: \" + str(outlier)\n",
    "print \"Labels:\"\n",
    "print label"
   ]
  },
  {
   "cell_type": "code",
   "execution_count": null,
   "metadata": {
    "collapsed": true
   },
   "outputs": [],
   "source": []
  }
 ],
 "metadata": {
  "kernelspec": {
   "display_name": "Python 2",
   "language": "python",
   "name": "python2"
  },
  "language_info": {
   "codemirror_mode": {
    "name": "ipython",
    "version": 2
   },
   "file_extension": ".py",
   "mimetype": "text/x-python",
   "name": "python",
   "nbconvert_exporter": "python",
   "pygments_lexer": "ipython2",
   "version": "2.7.14"
  }
 },
 "nbformat": 4,
 "nbformat_minor": 2
}
