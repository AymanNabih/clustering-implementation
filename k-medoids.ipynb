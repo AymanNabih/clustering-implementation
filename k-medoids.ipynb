{
 "cells": [
  {
   "cell_type": "markdown",
   "metadata": {},
   "source": [
    "# Implementasi K-Medoids"
   ]
  },
  {
   "cell_type": "markdown",
   "metadata": {},
   "source": [
    "### Pembacaan Data"
   ]
  },
  {
   "cell_type": "code",
   "execution_count": 1,
   "metadata": {},
   "outputs": [],
   "source": [
    "import pandas as pd\n",
    "import random\n",
    "\n",
    "iris = pd.read_csv('data/iris.csv')"
   ]
  },
  {
   "cell_type": "markdown",
   "metadata": {},
   "source": [
    "### Pemisahan Data Training dan Label"
   ]
  },
  {
   "cell_type": "code",
   "execution_count": 2,
   "metadata": {},
   "outputs": [],
   "source": [
    "import numpy as np\n",
    "from sklearn.preprocessing import LabelEncoder\n",
    "\n",
    "data_train = np.array(iris.iloc[:, 0:4])\n",
    "iris_label = iris.iloc[:,-1]\n",
    "species_encoder = LabelEncoder().fit(iris_label)\n",
    "iris_label_encoded = species_encoder.transform(iris_label)"
   ]
  },
  {
   "cell_type": "markdown",
   "metadata": {},
   "source": [
    "### Implementasi Kelas KMeans"
   ]
  },
  {
   "cell_type": "code",
   "execution_count": 3,
   "metadata": {},
   "outputs": [],
   "source": [
    "class KMedoids:\n",
    "    \n",
    "    # k -> jumlah kelas\n",
    "    # max_iter -> jumlah iterasi maksimal yang diperbolehkan\n",
    "    def __init__ (self, init_method=\"random\", k=2, max_iter=100):\n",
    "        self.init_method = init_method\n",
    "        self.k = k\n",
    "        self.max_iter = max_iter\n",
    "        self.centroids = []\n",
    "        self.data = None\n",
    "        self.labels = None\n",
    "        \n",
    "    def fit(self, data):\n",
    "        self.data = data\n",
    "        self.initCentroid()\n",
    "        i = 0\n",
    "        error = 1\n",
    "        stop = False\n",
    "        while not stop and i <= self.max_iter :\n",
    "            self.initClassClassification()\n",
    "            self.assignClassClassification()\n",
    "            prev_centroids = self.centroids\n",
    "            prev_error = self.calculateError(prev_centroids)    \n",
    "#             print(\"Prev: \", prev_centroids)\n",
    "            current_centroids, current_idx = self.changeCentroids()\n",
    "#             print(\"Curr: \", current_centroids)\n",
    "            curr_error = self.calculateError(current_centroids)\n",
    "#             print(prev_error, curr_error)\n",
    "            if curr_error <= prev_error :\n",
    "                self.centroids = current_centroids\n",
    "                self.idx_centroids = current_idx\n",
    "            else :\n",
    "                stop = True                \n",
    "            i += 1\n",
    "        self.labels = []\n",
    "        for i in range(len(data)) :\n",
    "            for j in range(self.k) :\n",
    "                if i in self.classifications[j] :\n",
    "                    self.labels.append(j)\n",
    "        return self\n",
    "            \n",
    "        \n",
    "    def initCentroid(self):\n",
    "        self.idx_centroids = []\n",
    "        if self.init_method == \"random\" :\n",
    "             for i in range(self.k):\n",
    "                idx = random.randint(0, len(self.data)-1)\n",
    "                while (idx in self.idx_centroids):\n",
    "                    idx = random.randint(0, len(self.data))\n",
    "                self.centroids.append(self.data[idx])\n",
    "                self.idx_centroids.append(idx)\n",
    "        else :\n",
    "            section = len(self.data) / self.k\n",
    "            for i in range(self.k) :\n",
    "                idx = int(i*section)\n",
    "                self.idx_centroids.append(idx)\n",
    "                self.centroids.append(self.data[idx])\n",
    "    \n",
    "    def initClassClassification(self) :\n",
    "        self.classifications = {}\n",
    "        for i in range (self.k):\n",
    "            self.classifications[i] = []\n",
    "            \n",
    "    def assignClassClassification(self) :\n",
    "        for i in range (len(self.data)) :\n",
    "            distances = [self.calculateDistance(self.data[i], centroid) for centroid in self.centroids]\n",
    "            classification = distances.index(min(distances))\n",
    "            self.classifications[classification].append(i)\n",
    "            \n",
    "    def calculateDistance(self, vec1, vec2) :\n",
    "        return np.sum([np.abs(v1-v2) for v1, v2 in zip(vec1, vec2)])\n",
    "    \n",
    "    def changeCentroids(self) :\n",
    "        centroids = self.centroids\n",
    "        idx_centroids = self.idx_centroids\n",
    "        idx = random.randint(0, self.k)\n",
    "        for i in range(self.k) :\n",
    "            if i == idx :\n",
    "                idx_change = random.randint(0, len(self.data))\n",
    "                while (idx_change in self.idx_centroids):\n",
    "                    idx_change = random.randint(0, len(self.data))\n",
    "                centroids[i] = np.array(self.data[idx_change])\n",
    "                idx_centroids[i] = idx_change\n",
    "                \n",
    "        return centroids, idx_centroids\n",
    "    \n",
    "    def calculateError(self, centroids) :\n",
    "        error = 0\n",
    "        for i in range (len(self.data)) :\n",
    "            distance = self.calculateDistance(self.data[i], centroids[self.getClusterIndex(i)])\n",
    "            error += distance\n",
    "        return error\n",
    "    \n",
    "    def getClusterIndex(self, idx) :\n",
    "        for k in range(self.k) :\n",
    "            if idx in self.classifications[k] :\n",
    "                return k"
   ]
  },
  {
   "cell_type": "markdown",
   "metadata": {},
   "source": [
    "### Percobaan"
   ]
  },
  {
   "cell_type": "code",
   "execution_count": 4,
   "metadata": {},
   "outputs": [
    {
     "data": {
      "text/html": [
       "<div>\n",
       "<style scoped>\n",
       "    .dataframe tbody tr th:only-of-type {\n",
       "        vertical-align: middle;\n",
       "    }\n",
       "\n",
       "    .dataframe tbody tr th {\n",
       "        vertical-align: top;\n",
       "    }\n",
       "\n",
       "    .dataframe thead th {\n",
       "        text-align: right;\n",
       "    }\n",
       "</style>\n",
       "<table border=\"1\" class=\"dataframe\">\n",
       "  <thead>\n",
       "    <tr style=\"text-align: right;\">\n",
       "      <th>col_0</th>\n",
       "      <th>0</th>\n",
       "      <th>1</th>\n",
       "      <th>2</th>\n",
       "    </tr>\n",
       "    <tr>\n",
       "      <th>species</th>\n",
       "      <th></th>\n",
       "      <th></th>\n",
       "      <th></th>\n",
       "    </tr>\n",
       "  </thead>\n",
       "  <tbody>\n",
       "    <tr>\n",
       "      <th>setosa</th>\n",
       "      <td>50</td>\n",
       "      <td>0</td>\n",
       "      <td>0</td>\n",
       "    </tr>\n",
       "    <tr>\n",
       "      <th>versicolor</th>\n",
       "      <td>4</td>\n",
       "      <td>46</td>\n",
       "      <td>0</td>\n",
       "    </tr>\n",
       "    <tr>\n",
       "      <th>virginica</th>\n",
       "      <td>0</td>\n",
       "      <td>17</td>\n",
       "      <td>33</td>\n",
       "    </tr>\n",
       "  </tbody>\n",
       "</table>\n",
       "</div>"
      ],
      "text/plain": [
       "col_0        0   1   2\n",
       "species               \n",
       "setosa      50   0   0\n",
       "versicolor   4  46   0\n",
       "virginica    0  17  33"
      ]
     },
     "execution_count": 4,
     "metadata": {},
     "output_type": "execute_result"
    }
   ],
   "source": [
    "from sklearn.metrics import confusion_matrix\n",
    "\n",
    "clf = KMedoids(init_method=\"distribute\", k=3)\n",
    "km = clf.fit(data_train)\n",
    "cm = confusion_matrix(km.labels, iris_label_encoded)\n",
    "\n",
    "pd.crosstab(iris_label, np.array(km.labels))"
   ]
  },
  {
   "cell_type": "code",
   "execution_count": 5,
   "metadata": {},
   "outputs": [
    {
     "name": "stdout",
     "output_type": "stream",
     "text": [
      "Purity:  0.86\n"
     ]
    }
   ],
   "source": [
    "purity = float(cm[0].max() + cm[1].max() + cm[2].max()) / float(cm.sum())\n",
    "\n",
    "print(\"Purity: \", purity)"
   ]
  }
 ],
 "metadata": {
  "kernelspec": {
   "display_name": "Python 3",
   "language": "python",
   "name": "python3"
  },
  "language_info": {
   "codemirror_mode": {
    "name": "ipython",
    "version": 3
   },
   "file_extension": ".py",
   "mimetype": "text/x-python",
   "name": "python",
   "nbconvert_exporter": "python",
   "pygments_lexer": "ipython3",
   "version": "3.5.2"
  }
 },
 "nbformat": 4,
 "nbformat_minor": 2
}
