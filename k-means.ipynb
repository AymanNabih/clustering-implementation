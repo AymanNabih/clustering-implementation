{
 "cells": [
  {
   "cell_type": "code",
   "execution_count": 18,
   "metadata": {},
   "outputs": [],
   "source": [
    "import pandas as pnd\n",
    "import heapq\n",
    "from collections import Counter\n",
    "import random\n",
    "\n",
    "iris = pnd.read_csv('data/iris.csv')"
   ]
  },
  {
   "cell_type": "code",
   "execution_count": 19,
   "metadata": {},
   "outputs": [],
   "source": [
    "import numpy as np\n",
    "\n",
    "data_train = np.array(iris.iloc[:, 0:4])\n",
    "np.random.shuffle(data_train)\n",
    "# data_train = data_train[:20]\n",
    "\n",
    "# print(data_train)\n",
    "# print(data_train[:,0])\n",
    "# print(np.average(data_train[:20][0]))\n",
    "# print(np.sum(data_train[:20][1]))\n",
    "# data_train"
   ]
  },
  {
   "cell_type": "code",
   "execution_count": 28,
   "metadata": {},
   "outputs": [],
   "source": [
    "class KMeans:\n",
    "    \n",
    "    # k -> jumlah kelas\n",
    "    # eps -> epsilon atau toleransi error. akan menjadi threshold jika error < eps maka sudah konvergen\n",
    "    # max_iter -> jumlah iterasi maksimal yang diperbolehkan\n",
    "    def __init__ (self, init_method=\"random\", k=2, eps=0.1, max_iter=100):\n",
    "        self.init_method = init_method\n",
    "        self.k = k\n",
    "        self.eps = eps\n",
    "        self.max_iter = max_iter\n",
    "        self.centroids = []\n",
    "        self.data = None\n",
    "        \n",
    "    def fit(self, data):\n",
    "        self.data = data\n",
    "        self.initCentroid()\n",
    "        i = 0\n",
    "        error = 1\n",
    "        while error > self.eps and i <= self.max_iter :\n",
    "            self.initClassClassification()\n",
    "            self.assignClassClassification()\n",
    "            prev_centroids = self.centroids\n",
    "            current_centroids = self.calculateCentroid()\n",
    "            error = self.calculateError(current_centroids)\n",
    "            if error > self.eps :\n",
    "                self.centroids = current_centroids\n",
    "\n",
    "            i += 1\n",
    "            \n",
    "        \n",
    "    def initCentroid(self):\n",
    "        idx_centroids = []\n",
    "        if self.init_method == \"random\" :\n",
    "             for i in range(self.k):\n",
    "                idx = random.randint(0, len(self.data)-1)\n",
    "                while (idx in idx_centroids):\n",
    "                    idx = random.randint(0, len(self.data))\n",
    "                self.centroids.append(self.data[idx])\n",
    "                idx_centroids.append(idx)\n",
    "        else :\n",
    "            section = len(self.data) / self.k\n",
    "            for i in range(self.k) :\n",
    "                self.centroids.append(self.data[i*section])\n",
    "    \n",
    "    def initClassClassification(self) :\n",
    "        self.classifications = {}\n",
    "        for i in range (self.k):\n",
    "            self.classifications[i] = []\n",
    "            \n",
    "    def assignClassClassification(self) :\n",
    "        for i in range (len(self.data)) :\n",
    "            distances = [self.calculateDistance(self.data[i], centroid) for centroid in self.centroids]\n",
    "            classification = distances.index(min(distances))\n",
    "            self.classifications[classification].append(i)\n",
    "            \n",
    "    def calculateDistance(self, vec1, vec2) :\n",
    "#         print(vec1, vec2)\n",
    "        return np.sqrt(np.sum([(v1-v2)**2 for v1, v2 in zip(vec1, vec2)]))\n",
    "    \n",
    "    def calculateCentroid(self) :\n",
    "        centroids = []\n",
    "        for i in range(self.k) :\n",
    "            centroid = []\n",
    "            for j in range(len(self.data[0]))  :\n",
    "                centroid.append(np.average(self.data[self.classifications[i],j]))\n",
    "            centroids.append(np.array(centroid))\n",
    "        return centroids\n",
    "    \n",
    "    def calculateError(self, centroids) :\n",
    "        error = 0\n",
    "        for i in range (len(self.data)) :\n",
    "            distance = self.calculateDistance(self.data[i], centroids[self.getClusterIndex(i)])\n",
    "            error += distance\n",
    "        return error\n",
    "    \n",
    "    def getClusterIndex(self, idx) :\n",
    "        for k in range(self.k) :\n",
    "            if idx in self.classifications[k] :\n",
    "                return k\n",
    "        \n",
    "\n",
    "clf = KMeans(k=3)\n",
    "clf.fit(data_train)"
   ]
  },
  {
   "cell_type": "code",
   "execution_count": 29,
   "metadata": {},
   "outputs": [
    {
     "name": "stdout",
     "output_type": "stream",
     "text": [
      "{0: [1, 3, 5, 8, 9, 10, 11, 16, 23, 26, 28, 30, 31, 32, 33, 34, 37, 38, 39, 40, 43, 44, 51, 52, 54, 55, 57, 58, 59, 68, 70, 72, 73, 75, 76, 77, 79, 80, 81, 83, 84, 89, 96, 97, 101, 103, 105, 107, 113, 114, 115, 117, 121, 124, 125, 127, 134, 139, 141, 143, 149], 1: [4, 6, 7, 14, 19, 24, 29, 36, 41, 45, 47, 50, 60, 61, 63, 64, 67, 82, 85, 86, 87, 88, 92, 93, 100, 102, 108, 109, 110, 112, 118, 120, 131, 132, 136, 138, 140, 147, 148], 2: [0, 2, 12, 13, 15, 17, 18, 20, 21, 22, 25, 27, 35, 42, 46, 48, 49, 53, 56, 62, 65, 66, 69, 71, 74, 78, 90, 91, 94, 95, 98, 99, 104, 106, 111, 116, 119, 122, 123, 126, 128, 129, 130, 133, 135, 137, 142, 144, 145, 146]}\n"
     ]
    }
   ],
   "source": [
    "print(clf.classifications)"
   ]
  },
  {
   "cell_type": "code",
   "execution_count": 30,
   "metadata": {},
   "outputs": [
    {
     "ename": "ImportError",
     "evalue": "No module named 'sklearn'",
     "output_type": "error",
     "traceback": [
      "\u001b[0;31m---------------------------------------------------------------------------\u001b[0m",
      "\u001b[0;31mImportError\u001b[0m                               Traceback (most recent call last)",
      "\u001b[0;32m<ipython-input-30-eb0311b6df9d>\u001b[0m in \u001b[0;36m<module>\u001b[0;34m\u001b[0m\n\u001b[0;32m----> 1\u001b[0;31m \u001b[0;32mfrom\u001b[0m \u001b[0msklearn\u001b[0m\u001b[0;34m.\u001b[0m\u001b[0mcluster\u001b[0m \u001b[0;32mimport\u001b[0m \u001b[0mKMeans\u001b[0m \u001b[0;32mas\u001b[0m \u001b[0mkm\u001b[0m\u001b[0;34m\u001b[0m\u001b[0m\n\u001b[0m",
      "\u001b[0;31mImportError\u001b[0m: No module named 'sklearn'"
     ]
    }
   ],
   "source": [
    "from sklearn.cluster import KMeans as km"
   ]
  }
 ],
 "metadata": {
  "kernelspec": {
   "display_name": "Python 3",
   "language": "python",
   "name": "python3"
  },
  "language_info": {
   "codemirror_mode": {
    "name": "ipython",
    "version": 3
   },
   "file_extension": ".py",
   "mimetype": "text/x-python",
   "name": "python",
   "nbconvert_exporter": "python",
   "pygments_lexer": "ipython3",
   "version": "3.5.2"
  }
 },
 "nbformat": 4,
 "nbformat_minor": 2
}
