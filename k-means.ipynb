{
 "cells": [
  {
   "cell_type": "code",
   "execution_count": 27,
   "metadata": {},
   "outputs": [],
   "source": [
    "import pandas as pnd\n",
    "import heapq\n",
    "from collections import Counter\n",
    "\n",
    "iris = pnd.read_csv('data/iris.csv')"
   ]
  },
  {
   "cell_type": "code",
   "execution_count": 33,
   "metadata": {},
   "outputs": [],
   "source": [
    "import numpy as np\n",
    "\n",
    "data_train = np.array(iris.iloc[:, 0:4])\n",
    "data_train = data_train[:20]"
   ]
  },
  {
   "cell_type": "code",
   "execution_count": 45,
   "metadata": {},
   "outputs": [],
   "source": [
    "class KMeans:\n",
    "    \n",
    "    # k -> jumlah kelas\n",
    "    # eps -> epsilon atau toleransi error. akan menjadi threshold jika error < eps maka sudah konvergen\n",
    "    # max_iter -> jumlah iterasi maksimal yang diperbolehkan\n",
    "    def __init__ (self, k=2, eps=0.01, max_iter=10):\n",
    "        self.k = k\n",
    "        self.eps = eps\n",
    "        self.max_iter = max_iter\n",
    "        self.centroids = []\n",
    "        self.data = None\n",
    "        \n",
    "    def fit(self, data):\n",
    "        self.data = data\n",
    "        self.initCentroid()\n",
    "        i = 0\n",
    "        error = 1\n",
    "        while error > self.eps and i <= self.max_iter :\n",
    "            self.initClassClassification()\n",
    "            self.assignClassClassification()\n",
    "            i += 1\n",
    "            \n",
    "        \n",
    "    def initCentroid(self):\n",
    "        for i in range(self.k) :\n",
    "            self.centroids.append(self.data[i])\n",
    "    \n",
    "    def initClassClassification(self) :\n",
    "        self.classifications = {}\n",
    "        for i in range (self.k):\n",
    "            self.classifications[i] = []\n",
    "            \n",
    "    def assignClassClassification(self) :\n",
    "        for i in range (len(self.data)) :\n",
    "            distances = [self.calculateDistance(self.data[i], centroid) for centroid in self.centroids]\n",
    "            classification = distances.index(min(distances))\n",
    "            self.classifications[classification].append(i)\n",
    "            \n",
    "    def calculateDistance(self, vec1, vec2) :\n",
    "#         for v1, v2 in zip(vec1, vec2):\n",
    "#             print(np.linalg.norm(v1-v2) )\n",
    "        return np.sum([np.linalg.norm(v1-v2) for v1, v2 in zip(vec1, vec2)])\n",
    "\n",
    "clf = KMeans()\n",
    "clf.fit(data_train)"
   ]
  }
 ],
 "metadata": {
  "kernelspec": {
   "display_name": "Python 3",
   "language": "python",
   "name": "python3"
  },
  "language_info": {
   "codemirror_mode": {
    "name": "ipython",
    "version": 3
   },
   "file_extension": ".py",
   "mimetype": "text/x-python",
   "name": "python",
   "nbconvert_exporter": "python",
   "pygments_lexer": "ipython3",
   "version": "3.5.2"
  }
 },
 "nbformat": 4,
 "nbformat_minor": 2
}
