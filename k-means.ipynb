{
 "cells": [
  {
   "cell_type": "markdown",
   "metadata": {},
   "source": [
    "# Implementasi K-Means"
   ]
  },
  {
   "cell_type": "markdown",
   "metadata": {},
   "source": [
    "### Pembacaan Data"
   ]
  },
  {
   "cell_type": "code",
   "execution_count": 54,
   "metadata": {},
   "outputs": [],
   "source": [
    "import pandas as pd\n",
    "import random\n",
    "\n",
    "iris = pd.read_csv('data/iris.csv')"
   ]
  },
  {
   "cell_type": "markdown",
   "metadata": {},
   "source": [
    "### Pemisahan Data Training dan Label"
   ]
  },
  {
   "cell_type": "code",
   "execution_count": 55,
   "metadata": {},
   "outputs": [],
   "source": [
    "import numpy as np\n",
    "from sklearn.preprocessing import LabelEncoder\n",
    "\n",
    "data_train = np.array(iris.iloc[:, 0:4])\n",
    "iris_label = iris.iloc[:,-1]\n",
    "species_encoder = LabelEncoder().fit(iris_label)\n",
    "iris_label_encoded = species_encoder.transform(iris_label)"
   ]
  },
  {
   "cell_type": "markdown",
   "metadata": {},
   "source": [
    "### Implementasi Kelas KMeans"
   ]
  },
  {
   "cell_type": "code",
   "execution_count": 56,
   "metadata": {},
   "outputs": [],
   "source": [
    "class KMeans:\n",
    "    \n",
    "    # k -> jumlah kelas\n",
    "    # eps -> epsilon atau toleransi error. akan menjadi threshold jika error < eps maka sudah konvergen\n",
    "    # max_iter -> jumlah iterasi maksimal yang diperbolehkan\n",
    "    def __init__ (self, init_method=\"random\", k=2, eps=0.1, max_iter=100):\n",
    "        self.init_method = init_method\n",
    "        self.k = k\n",
    "        self.eps = eps\n",
    "        self.max_iter = max_iter\n",
    "        self.centroids = []\n",
    "        self.data = None\n",
    "        self.labels = None\n",
    "        \n",
    "    def fit(self, data):\n",
    "        self.data = data\n",
    "        self.initCentroid()\n",
    "        i = 0\n",
    "        error = 1\n",
    "        while error > self.eps and i <= self.max_iter :\n",
    "            self.initClassClassification()\n",
    "            self.assignClassClassification()\n",
    "            prev_centroids = self.centroids\n",
    "            current_centroids = self.calculateCentroid()\n",
    "            error = self.calculateError(current_centroids)\n",
    "            if error > self.eps :\n",
    "                self.centroids = current_centroids\n",
    "            i += 1\n",
    "        self.labels = []\n",
    "        for i in range(len(data)) :\n",
    "            for j in range(self.k) :\n",
    "                if i in self.classifications[j] :\n",
    "                    self.labels.append(j)\n",
    "        return self\n",
    "            \n",
    "        \n",
    "    def initCentroid(self):\n",
    "        idx_centroids = []\n",
    "        if self.init_method == \"random\" :\n",
    "             for i in range(self.k):\n",
    "                idx = random.randint(0, len(self.data)-1)\n",
    "                while (idx in idx_centroids):\n",
    "                    idx = random.randint(0, len(self.data))\n",
    "                self.centroids.append(self.data[idx])\n",
    "                idx_centroids.append(idx)\n",
    "        else :\n",
    "            section = len(self.data) / self.k\n",
    "            for i in range(self.k) :\n",
    "                idx = int(i*section)\n",
    "                self.centroids.append(self.data[idx])\n",
    "    \n",
    "    def initClassClassification(self) :\n",
    "        self.classifications = {}\n",
    "        for i in range (self.k):\n",
    "            self.classifications[i] = []\n",
    "            \n",
    "    def assignClassClassification(self) :\n",
    "        for i in range (len(self.data)) :\n",
    "            distances = [self.calculateDistance(self.data[i], centroid) for centroid in self.centroids]\n",
    "            classification = distances.index(min(distances))\n",
    "            self.classifications[classification].append(i)\n",
    "            \n",
    "    def calculateDistance(self, vec1, vec2) :\n",
    "        return np.sqrt(np.sum([(v1-v2)**2 for v1, v2 in zip(vec1, vec2)]))\n",
    "    \n",
    "    def calculateCentroid(self) :\n",
    "        centroids = []\n",
    "        for i in range(self.k) :\n",
    "            centroid = []\n",
    "            for j in range(len(self.data[0]))  :\n",
    "                centroid.append(np.average(self.data[self.classifications[i],j]))\n",
    "            centroids.append(np.array(centroid))\n",
    "        return centroids\n",
    "    \n",
    "    def calculateError(self, centroids) :\n",
    "        error = 0\n",
    "        for i in range (len(self.data)) :\n",
    "            distance = self.calculateDistance(self.data[i], centroids[self.getClusterIndex(i)])\n",
    "            error += distance\n",
    "        return error\n",
    "    \n",
    "    def getClusterIndex(self, idx) :\n",
    "        for k in range(self.k) :\n",
    "            if idx in self.classifications[k] :\n",
    "                return k"
   ]
  },
  {
   "cell_type": "markdown",
   "metadata": {},
   "source": [
    "### Percobaan"
   ]
  },
  {
   "cell_type": "code",
   "execution_count": 57,
   "metadata": {},
   "outputs": [
    {
     "data": {
      "text/html": [
       "<div>\n",
       "<style scoped>\n",
       "    .dataframe tbody tr th:only-of-type {\n",
       "        vertical-align: middle;\n",
       "    }\n",
       "\n",
       "    .dataframe tbody tr th {\n",
       "        vertical-align: top;\n",
       "    }\n",
       "\n",
       "    .dataframe thead th {\n",
       "        text-align: right;\n",
       "    }\n",
       "</style>\n",
       "<table border=\"1\" class=\"dataframe\">\n",
       "  <thead>\n",
       "    <tr style=\"text-align: right;\">\n",
       "      <th>col_0</th>\n",
       "      <th>0</th>\n",
       "      <th>1</th>\n",
       "      <th>2</th>\n",
       "    </tr>\n",
       "    <tr>\n",
       "      <th>species</th>\n",
       "      <th></th>\n",
       "      <th></th>\n",
       "      <th></th>\n",
       "    </tr>\n",
       "  </thead>\n",
       "  <tbody>\n",
       "    <tr>\n",
       "      <th>setosa</th>\n",
       "      <td>50</td>\n",
       "      <td>0</td>\n",
       "      <td>0</td>\n",
       "    </tr>\n",
       "    <tr>\n",
       "      <th>versicolor</th>\n",
       "      <td>0</td>\n",
       "      <td>48</td>\n",
       "      <td>2</td>\n",
       "    </tr>\n",
       "    <tr>\n",
       "      <th>virginica</th>\n",
       "      <td>0</td>\n",
       "      <td>14</td>\n",
       "      <td>36</td>\n",
       "    </tr>\n",
       "  </tbody>\n",
       "</table>\n",
       "</div>"
      ],
      "text/plain": [
       "col_0        0   1   2\n",
       "species               \n",
       "setosa      50   0   0\n",
       "versicolor   0  48   2\n",
       "virginica    0  14  36"
      ]
     },
     "execution_count": 57,
     "metadata": {},
     "output_type": "execute_result"
    }
   ],
   "source": [
    "clf = KMeans(init_method=\"distribute\", k=3)\n",
    "km = clf.fit(data_train)\n",
    "mat = confusion_matrix(km.labels, iris_label_encoded)\n",
    "\n",
    "pd.crosstab(iris_label, np.array(km.labels))"
   ]
  },
  {
   "cell_type": "code",
   "execution_count": 58,
   "metadata": {},
   "outputs": [
    {
     "name": "stdout",
     "output_type": "stream",
     "text": [
      "Purity:  0.8933333333333333\n"
     ]
    }
   ],
   "source": [
    "purity = float(mat[0].max() + mat[1].max() + mat[2].max()) / float(mat.sum())\n",
    "\n",
    "print(\"Purity: \", purity)"
   ]
  },
  {
   "cell_type": "markdown",
   "metadata": {},
   "source": [
    "### Perbandingan dengan K-Means dari Sklearn"
   ]
  },
  {
   "cell_type": "code",
   "execution_count": 61,
   "metadata": {},
   "outputs": [
    {
     "data": {
      "text/html": [
       "<div>\n",
       "<style scoped>\n",
       "    .dataframe tbody tr th:only-of-type {\n",
       "        vertical-align: middle;\n",
       "    }\n",
       "\n",
       "    .dataframe tbody tr th {\n",
       "        vertical-align: top;\n",
       "    }\n",
       "\n",
       "    .dataframe thead th {\n",
       "        text-align: right;\n",
       "    }\n",
       "</style>\n",
       "<table border=\"1\" class=\"dataframe\">\n",
       "  <thead>\n",
       "    <tr style=\"text-align: right;\">\n",
       "      <th>col_0</th>\n",
       "      <th>0</th>\n",
       "      <th>1</th>\n",
       "      <th>2</th>\n",
       "    </tr>\n",
       "    <tr>\n",
       "      <th>species</th>\n",
       "      <th></th>\n",
       "      <th></th>\n",
       "      <th></th>\n",
       "    </tr>\n",
       "  </thead>\n",
       "  <tbody>\n",
       "    <tr>\n",
       "      <th>setosa</th>\n",
       "      <td>50</td>\n",
       "      <td>0</td>\n",
       "      <td>0</td>\n",
       "    </tr>\n",
       "    <tr>\n",
       "      <th>versicolor</th>\n",
       "      <td>0</td>\n",
       "      <td>48</td>\n",
       "      <td>2</td>\n",
       "    </tr>\n",
       "    <tr>\n",
       "      <th>virginica</th>\n",
       "      <td>0</td>\n",
       "      <td>14</td>\n",
       "      <td>36</td>\n",
       "    </tr>\n",
       "  </tbody>\n",
       "</table>\n",
       "</div>"
      ],
      "text/plain": [
       "col_0        0   1   2\n",
       "species               \n",
       "setosa      50   0   0\n",
       "versicolor   0  48   2\n",
       "virginica    0  14  36"
      ]
     },
     "execution_count": 61,
     "metadata": {},
     "output_type": "execute_result"
    }
   ],
   "source": [
    "from sklearn.cluster import KMeans as SklearnKmeans\n",
    "from sklearn.metrics import confusion_matrix\n",
    "\n",
    "km = SklearnKmeans(n_clusters=3).fit(data_train)\n",
    "mat = confusion_matrix(km.labels_, iris_label_encoded)\n",
    "\n",
    "pd.crosstab(iris_label, km.labels_)"
   ]
  },
  {
   "cell_type": "code",
   "execution_count": 60,
   "metadata": {},
   "outputs": [
    {
     "name": "stdout",
     "output_type": "stream",
     "text": [
      "Purity:  0.8933333333333333\n"
     ]
    }
   ],
   "source": [
    "purity = float(mat[0].max() + mat[1].max() + mat[2].max()) / float(mat.sum())\n",
    "\n",
    "print(\"Purity: \", purity)"
   ]
  }
 ],
 "metadata": {
  "kernelspec": {
   "display_name": "Python 3",
   "language": "python",
   "name": "python3"
  },
  "language_info": {
   "codemirror_mode": {
    "name": "ipython",
    "version": 3
   },
   "file_extension": ".py",
   "mimetype": "text/x-python",
   "name": "python",
   "nbconvert_exporter": "python",
   "pygments_lexer": "ipython3",
   "version": "3.5.2"
  }
 },
 "nbformat": 4,
 "nbformat_minor": 2
}
