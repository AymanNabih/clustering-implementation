{
 "cells": [
  {
   "cell_type": "markdown",
   "metadata": {},
   "source": [
    "# Implementasi Agglomerative"
   ]
  },
  {
   "cell_type": "markdown",
   "metadata": {},
   "source": [
    "### Pembacaan Data"
   ]
  },
  {
   "cell_type": "code",
   "execution_count": 120,
   "metadata": {
    "collapsed": true
   },
   "outputs": [],
   "source": [
    "import pandas as pnd\n",
    "import heapq\n",
    "from collections import Counter\n",
    "from sklearn.metrics import confusion_matrix\n",
    "\n",
    "iris = pnd.read_csv('iris.csv')\n",
    "#source: https://raw.githubusercontent.com/uiuc-cse/data-fa14/gh-pages/data/iris.csv"
   ]
  },
  {
   "cell_type": "markdown",
   "metadata": {},
   "source": [
    "### Pemisahan Data Training dan Label"
   ]
  },
  {
   "cell_type": "code",
   "execution_count": 121,
   "metadata": {
    "scrolled": false
   },
   "outputs": [],
   "source": [
    "import numpy as np\n",
    "from sklearn.preprocessing import LabelEncoder\n",
    "\n",
    "data_train = np.array(iris.iloc[:, 0:4])\n",
    "iris_label = iris.iloc[:,-1]\n",
    "species_encoder = LabelEncoder().fit(iris_label)\n",
    "iris_label_encoded = species_encoder.transform(iris_label)"
   ]
  },
  {
   "cell_type": "markdown",
   "metadata": {
    "collapsed": true
   },
   "source": [
    "### Implementasi Kelas Agglomerative"
   ]
  },
  {
   "cell_type": "code",
   "execution_count": 122,
   "metadata": {
    "collapsed": true
   },
   "outputs": [],
   "source": [
    "class AgglomerativeClustering():\n",
    "\n",
    "    def __init__(self, cluster_num=2, linkage=\"single\"):\n",
    "        self.cluster_num = cluster_num\n",
    "        self.linkage = linkage\n",
    "        self.data = None\n",
    "        self.data_num = None\n",
    "        self.col_num = None\n",
    "        self.label = None\n",
    "        self.dm = None\n",
    "        self.sda = None\n",
    "\n",
    "    def distance(self,i1,i2):\n",
    "        dist = 0\n",
    "        for attr in range(self.col_num):\n",
    "            dist += abs(self.data[i1][attr] - self.data[i2][attr])\n",
    "        return dist\n",
    "\n",
    "    def populate_distance_matrix(self):\n",
    "        for i in range(self.data_num):\n",
    "            self.label.append(i)\n",
    "\n",
    "        for i1 in range(self.data_num):\n",
    "            for i2 in range(self.data_num):\n",
    "                self.dm[i1][i2] = self.distance(i1,i2)\n",
    "\n",
    "    def process_shortest_path(self):\n",
    "        for i in range(self.data_num):\n",
    "            j = 0\n",
    "            min = 99999\n",
    "            self.sda[i][0] = min\n",
    "            self.sda[i][1] = i\n",
    "            self.sda[i][2] = j\n",
    "            while j < self.data_num:\n",
    "                if(self.dm[i][j] < min and self.dm[i][j] != 0):\n",
    "                    min = self.dm[i][j]\n",
    "                    self.sda[i][0] = min\n",
    "                    self.sda[i][1] = i\n",
    "                    self.sda[i][2] = j\n",
    "                j += 1\n",
    "\n",
    "    def single_linkage(self,id1,id2):\n",
    "        for y in range(self.data_num):\n",
    "            if(self.dm[id1][y] < self.dm[id2][y]):\n",
    "                self.dm[id2][y] = self.dm[id1][y]\n",
    "            else:\n",
    "                self.dm[id1][y] = self.dm[id2][y]\n",
    "\n",
    "        for x in range(self.data_num):\n",
    "            if(self.dm[x][id1] < self.dm[x][id2]):\n",
    "                self.dm[x][id2] = self.dm[x][id1]\n",
    "            else:\n",
    "                self.dm[x][id1] = self.dm[x][id2]\n",
    "\n",
    "    def complete_linkage(self,id1,id2):\n",
    "        for y in range(self.data_num):\n",
    "            if(self.dm[id1][y] and self.dm[id2][y]):\n",
    "                if(self.dm[id1][y] > self.dm[id2][y]):\n",
    "                    self.dm[id2][y] = self.dm[id1][y]\n",
    "                else:\n",
    "                    self.dm[id1][y] = self.dm[id2][y]\n",
    "\n",
    "        for x in range(self.data_num):\n",
    "            if(self.dm[x][id1] and self.dm[x][id2]):\n",
    "                if(self.dm[x][id1] > self.dm[x][id2]):\n",
    "                    self.dm[x][id2] = self.dm[x][id1]\n",
    "                else:\n",
    "                    self.dm[x][id1] = self.dm[x][id2]\n",
    "\n",
    "    def average_linkage(self,id1,id2):\n",
    "        for y in range(self.data_num):\n",
    "            if(self.dm[id1][y] and self.dm[id2][y]):\n",
    "                average = self.dm[id2][y] + self.dm[id1][y] / 2\n",
    "                self.dm[id2][y] = average\n",
    "                self.dm[id1][y] = average\n",
    "\n",
    "        for x in range(self.data_num):\n",
    "            if(self.dm[x][id1] and self.dm[x][id2]):\n",
    "                average = self.dm[x][id1] + self.dm[x][id2] / 2\n",
    "                self.dm[x][id2] = average\n",
    "                self.dm[x][id1] = average\n",
    "\n",
    "    def update_distance_matrix(self,id1,id2):\n",
    "        if self.linkage == \"single\":\n",
    "            self.single_linkage(id1,id2)\n",
    "        elif self.linkage == \"complete\":\n",
    "            self.complete_linkage(id1,id2)\n",
    "        else:\n",
    "            self.average_linkage(id1,id2)\n",
    "\n",
    "    def is_outlier_big(self):\n",
    "        uniqueL = list(set(self.label))\n",
    "        unsortedL = Counter(self.label)\n",
    "        val = []\n",
    "\n",
    "        for i in range(len(uniqueL)):\n",
    "            val.append(unsortedL[uniqueL[i]])\n",
    "\n",
    "        outlier = self.data_num - sum(heapq.nlargest(self.cluster_num, val))\n",
    "\n",
    "        return (float(outlier)/self.data_num >= 0.03)\n",
    "\n",
    "    def merging(self):\n",
    "        self.process_shortest_path()\n",
    "\n",
    "        min = self.sda[0][0]\n",
    "        id1 = self.sda[0][1]\n",
    "        id2 = self.sda[0][2]\n",
    "        for i in range(self.data_num):\n",
    "            if(self.sda[i][0] < min):\n",
    "                min = self.sda[i][0]\n",
    "                id1 = self.sda[i][1]\n",
    "                id2 = self.sda[i][2]\n",
    "        id1 = id1.astype(np.int64)\n",
    "        id2 = id2.astype(np.int64)\n",
    "        if(id1 < id2):\n",
    "            self.label[:] = [id1 if x==id2 else x for x in self.label]\n",
    "        else:\n",
    "            self.label[:] = [id2 if x==id1 else x for x in self.label]\n",
    "        self.dm[id1][id2] = 0\n",
    "        self.dm[id2][id1] = 0\n",
    "\n",
    "        self.update_distance_matrix(id1,id2)\n",
    "\n",
    "        cn = len(list(set(self.label)))\n",
    "\n",
    "        if self.cluster_num != cn and self.is_outlier_big():\n",
    "            self.merging()\n",
    "\n",
    "    def fit(self, data_train):\n",
    "        self.data = data_train\n",
    "        self.data_num = len(self.data)\n",
    "        self.col_num = len(self.data[0])\n",
    "        self.label = []\n",
    "        self.dm = np.zeros(shape=(self.data_num,self.data_num))\n",
    "        self.sda = np.zeros(shape=(self.data_num,3))\n",
    "        \n",
    "        self.populate_distance_matrix()\n",
    "        self.merging()\n",
    "\n",
    "        cluster = []\n",
    "        result = Counter(self.label).most_common(self.cluster_num)\n",
    "        for i in range(self.cluster_num):\n",
    "            cluster.append(result[i][0])\n",
    "\n",
    "        for i in range(self.data_num):\n",
    "            if not self.label[i] in cluster:\n",
    "                self.label[i] = -1\n",
    "\n",
    "        return self"
   ]
  },
  {
   "cell_type": "markdown",
   "metadata": {},
   "source": [
    "### Percobaan"
   ]
  },
  {
   "cell_type": "code",
   "execution_count": 128,
   "metadata": {},
   "outputs": [
    {
     "data": {
      "text/html": [
       "<div>\n",
       "<style>\n",
       "    .dataframe thead tr:only-child th {\n",
       "        text-align: right;\n",
       "    }\n",
       "\n",
       "    .dataframe thead th {\n",
       "        text-align: left;\n",
       "    }\n",
       "\n",
       "    .dataframe tbody tr th {\n",
       "        vertical-align: top;\n",
       "    }\n",
       "</style>\n",
       "<table border=\"1\" class=\"dataframe\">\n",
       "  <thead>\n",
       "    <tr style=\"text-align: right;\">\n",
       "      <th>col_0</th>\n",
       "      <th>-1</th>\n",
       "      <th>0</th>\n",
       "      <th>3</th>\n",
       "      <th>50</th>\n",
       "    </tr>\n",
       "    <tr>\n",
       "      <th>species</th>\n",
       "      <th></th>\n",
       "      <th></th>\n",
       "      <th></th>\n",
       "      <th></th>\n",
       "    </tr>\n",
       "  </thead>\n",
       "  <tbody>\n",
       "    <tr>\n",
       "      <th>setosa</th>\n",
       "      <td>1</td>\n",
       "      <td>48</td>\n",
       "      <td>1</td>\n",
       "      <td>0</td>\n",
       "    </tr>\n",
       "    <tr>\n",
       "      <th>versicolor</th>\n",
       "      <td>0</td>\n",
       "      <td>0</td>\n",
       "      <td>0</td>\n",
       "      <td>50</td>\n",
       "    </tr>\n",
       "    <tr>\n",
       "      <th>virginica</th>\n",
       "      <td>3</td>\n",
       "      <td>0</td>\n",
       "      <td>0</td>\n",
       "      <td>47</td>\n",
       "    </tr>\n",
       "  </tbody>\n",
       "</table>\n",
       "</div>"
      ],
      "text/plain": [
       "col_0       -1    0    3    50\n",
       "species                       \n",
       "setosa        1   48    1    0\n",
       "versicolor    0    0    0   50\n",
       "virginica     3    0    0   47"
      ]
     },
     "execution_count": 128,
     "metadata": {},
     "output_type": "execute_result"
    }
   ],
   "source": [
    "clf = AgglomerativeClustering(3,\"single\")\n",
    "agglomerative = clf.fit(data_train)\n",
    "mat = confusion_matrix(agglomerative.label, iris_label_encoded)\n",
    "\n",
    "pnd.crosstab(iris_label, np.array(agglomerative.label))"
   ]
  },
  {
   "cell_type": "code",
   "execution_count": 129,
   "metadata": {},
   "outputs": [
    {
     "name": "stdout",
     "output_type": "stream",
     "text": [
      "('Purity: ', 0.66)\n",
      "[[ 0  1  0  3  0  0]\n",
      " [ 0 48  0  0  0  0]\n",
      " [ 0  0  0  0  0  0]\n",
      " [ 0  0  0  0  0  0]\n",
      " [ 0  1  0  0  0  0]\n",
      " [ 0  0 50 47  0  0]]\n"
     ]
    }
   ],
   "source": [
    "purity = float(mat[1].max() + mat[2].max() + mat[5].max()) / float(mat.sum())\n",
    "\n",
    "print(\"Purity: \", purity)\n",
    "print mat"
   ]
  },
  {
   "cell_type": "markdown",
   "metadata": {},
   "source": [
    "### Perbandingan dengan Agglomerative dari Sklearn"
   ]
  },
  {
   "cell_type": "code",
   "execution_count": 125,
   "metadata": {},
   "outputs": [
    {
     "data": {
      "text/html": [
       "<div>\n",
       "<style>\n",
       "    .dataframe thead tr:only-child th {\n",
       "        text-align: right;\n",
       "    }\n",
       "\n",
       "    .dataframe thead th {\n",
       "        text-align: left;\n",
       "    }\n",
       "\n",
       "    .dataframe tbody tr th {\n",
       "        vertical-align: top;\n",
       "    }\n",
       "</style>\n",
       "<table border=\"1\" class=\"dataframe\">\n",
       "  <thead>\n",
       "    <tr style=\"text-align: right;\">\n",
       "      <th>col_0</th>\n",
       "      <th>0</th>\n",
       "      <th>1</th>\n",
       "      <th>2</th>\n",
       "    </tr>\n",
       "    <tr>\n",
       "      <th>species</th>\n",
       "      <th></th>\n",
       "      <th></th>\n",
       "      <th></th>\n",
       "    </tr>\n",
       "  </thead>\n",
       "  <tbody>\n",
       "    <tr>\n",
       "      <th>setosa</th>\n",
       "      <td>0</td>\n",
       "      <td>50</td>\n",
       "      <td>0</td>\n",
       "    </tr>\n",
       "    <tr>\n",
       "      <th>versicolor</th>\n",
       "      <td>49</td>\n",
       "      <td>0</td>\n",
       "      <td>1</td>\n",
       "    </tr>\n",
       "    <tr>\n",
       "      <th>virginica</th>\n",
       "      <td>15</td>\n",
       "      <td>0</td>\n",
       "      <td>35</td>\n",
       "    </tr>\n",
       "  </tbody>\n",
       "</table>\n",
       "</div>"
      ],
      "text/plain": [
       "col_0        0   1   2\n",
       "species               \n",
       "setosa       0  50   0\n",
       "versicolor  49   0   1\n",
       "virginica   15   0  35"
      ]
     },
     "execution_count": 125,
     "metadata": {},
     "output_type": "execute_result"
    }
   ],
   "source": [
    "from sklearn.cluster import AgglomerativeClustering as SklearnAgglomerative\n",
    "\n",
    "agglomerative = SklearnAgglomerative(n_clusters=3).fit(data_train)\n",
    "mat = confusion_matrix(agglomerative.labels_, iris_label_encoded)\n",
    "\n",
    "pnd.crosstab(iris_label, agglomerative.labels_)"
   ]
  },
  {
   "cell_type": "code",
   "execution_count": 127,
   "metadata": {},
   "outputs": [
    {
     "name": "stdout",
     "output_type": "stream",
     "text": [
      "('Purity: ', 0.8933333333333333)\n",
      "[[ 0 49 15]\n",
      " [50  0  0]\n",
      " [ 0  1 35]]\n"
     ]
    }
   ],
   "source": [
    "purity = float(mat[0].max() + mat[1].max() + mat[2].max()) / float(mat.sum())\n",
    "\n",
    "print(\"Purity: \", purity)"
   ]
  },
  {
   "cell_type": "code",
   "execution_count": null,
   "metadata": {
    "collapsed": true
   },
   "outputs": [],
   "source": []
  }
 ],
 "metadata": {
  "kernelspec": {
   "display_name": "Python 2",
   "language": "python",
   "name": "python2"
  },
  "language_info": {
   "codemirror_mode": {
    "name": "ipython",
    "version": 2
   },
   "file_extension": ".py",
   "mimetype": "text/x-python",
   "name": "python",
   "nbconvert_exporter": "python",
   "pygments_lexer": "ipython2",
   "version": "2.7.14"
  }
 },
 "nbformat": 4,
 "nbformat_minor": 2
}
