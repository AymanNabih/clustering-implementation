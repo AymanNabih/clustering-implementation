{
 "cells": [
  {
   "cell_type": "code",
   "execution_count": 861,
   "metadata": {},
   "outputs": [
    {
     "data": {
      "text/html": [
       "<div>\n",
       "<style>\n",
       "    .dataframe thead tr:only-child th {\n",
       "        text-align: right;\n",
       "    }\n",
       "\n",
       "    .dataframe thead th {\n",
       "        text-align: left;\n",
       "    }\n",
       "\n",
       "    .dataframe tbody tr th {\n",
       "        vertical-align: top;\n",
       "    }\n",
       "</style>\n",
       "<table border=\"1\" class=\"dataframe\">\n",
       "  <thead>\n",
       "    <tr style=\"text-align: right;\">\n",
       "      <th></th>\n",
       "      <th>sepal_length</th>\n",
       "      <th>sepal_width</th>\n",
       "      <th>petal_length</th>\n",
       "      <th>petal_width</th>\n",
       "      <th>species</th>\n",
       "    </tr>\n",
       "  </thead>\n",
       "  <tbody>\n",
       "    <tr>\n",
       "      <th>0</th>\n",
       "      <td>4.7</td>\n",
       "      <td>3.2</td>\n",
       "      <td>1.3</td>\n",
       "      <td>0.2</td>\n",
       "      <td>setosa</td>\n",
       "    </tr>\n",
       "    <tr>\n",
       "      <th>1</th>\n",
       "      <td>4.6</td>\n",
       "      <td>3.1</td>\n",
       "      <td>1.5</td>\n",
       "      <td>0.2</td>\n",
       "      <td>setosa</td>\n",
       "    </tr>\n",
       "    <tr>\n",
       "      <th>2</th>\n",
       "      <td>5.0</td>\n",
       "      <td>3.6</td>\n",
       "      <td>1.4</td>\n",
       "      <td>0.2</td>\n",
       "      <td>setosa</td>\n",
       "    </tr>\n",
       "    <tr>\n",
       "      <th>3</th>\n",
       "      <td>5.4</td>\n",
       "      <td>3.9</td>\n",
       "      <td>1.7</td>\n",
       "      <td>0.4</td>\n",
       "      <td>setosa</td>\n",
       "    </tr>\n",
       "    <tr>\n",
       "      <th>4</th>\n",
       "      <td>7.0</td>\n",
       "      <td>3.2</td>\n",
       "      <td>4.7</td>\n",
       "      <td>1.4</td>\n",
       "      <td>versicolor</td>\n",
       "    </tr>\n",
       "    <tr>\n",
       "      <th>5</th>\n",
       "      <td>6.4</td>\n",
       "      <td>3.2</td>\n",
       "      <td>4.5</td>\n",
       "      <td>1.5</td>\n",
       "      <td>versicolor</td>\n",
       "    </tr>\n",
       "    <tr>\n",
       "      <th>6</th>\n",
       "      <td>6.9</td>\n",
       "      <td>3.1</td>\n",
       "      <td>4.9</td>\n",
       "      <td>1.5</td>\n",
       "      <td>versicolor</td>\n",
       "    </tr>\n",
       "    <tr>\n",
       "      <th>7</th>\n",
       "      <td>5.5</td>\n",
       "      <td>2.3</td>\n",
       "      <td>4.0</td>\n",
       "      <td>1.3</td>\n",
       "      <td>versicolor</td>\n",
       "    </tr>\n",
       "    <tr>\n",
       "      <th>8</th>\n",
       "      <td>6.5</td>\n",
       "      <td>2.8</td>\n",
       "      <td>4.6</td>\n",
       "      <td>1.5</td>\n",
       "      <td>versicolor</td>\n",
       "    </tr>\n",
       "    <tr>\n",
       "      <th>9</th>\n",
       "      <td>5.7</td>\n",
       "      <td>2.8</td>\n",
       "      <td>4.5</td>\n",
       "      <td>1.3</td>\n",
       "      <td>versicolor</td>\n",
       "    </tr>\n",
       "    <tr>\n",
       "      <th>10</th>\n",
       "      <td>5.1</td>\n",
       "      <td>3.5</td>\n",
       "      <td>1.4</td>\n",
       "      <td>0.2</td>\n",
       "      <td>setosa</td>\n",
       "    </tr>\n",
       "    <tr>\n",
       "      <th>11</th>\n",
       "      <td>4.9</td>\n",
       "      <td>3.0</td>\n",
       "      <td>1.4</td>\n",
       "      <td>0.2</td>\n",
       "      <td>setosa</td>\n",
       "    </tr>\n",
       "  </tbody>\n",
       "</table>\n",
       "</div>"
      ],
      "text/plain": [
       "    sepal_length  sepal_width  petal_length  petal_width     species\n",
       "0            4.7          3.2           1.3          0.2      setosa\n",
       "1            4.6          3.1           1.5          0.2      setosa\n",
       "2            5.0          3.6           1.4          0.2      setosa\n",
       "3            5.4          3.9           1.7          0.4      setosa\n",
       "4            7.0          3.2           4.7          1.4  versicolor\n",
       "5            6.4          3.2           4.5          1.5  versicolor\n",
       "6            6.9          3.1           4.9          1.5  versicolor\n",
       "7            5.5          2.3           4.0          1.3  versicolor\n",
       "8            6.5          2.8           4.6          1.5  versicolor\n",
       "9            5.7          2.8           4.5          1.3  versicolor\n",
       "10           5.1          3.5           1.4          0.2      setosa\n",
       "11           4.9          3.0           1.4          0.2      setosa"
      ]
     },
     "execution_count": 861,
     "metadata": {},
     "output_type": "execute_result"
    }
   ],
   "source": [
    "import pandas as pnd\n",
    "\n",
    "iris = pnd.read_csv('iris_sample.csv')\n",
    "#source: https://raw.githubusercontent.com/uiuc-cse/data-fa14/gh-pages/data/iris.csv\n",
    "\n",
    "iris"
   ]
  },
  {
   "cell_type": "code",
   "execution_count": 862,
   "metadata": {
    "scrolled": false
   },
   "outputs": [
    {
     "data": {
      "text/plain": [
       "array([[ 4.7,  3.2,  1.3,  0.2],\n",
       "       [ 4.6,  3.1,  1.5,  0.2],\n",
       "       [ 5. ,  3.6,  1.4,  0.2],\n",
       "       [ 5.4,  3.9,  1.7,  0.4],\n",
       "       [ 7. ,  3.2,  4.7,  1.4],\n",
       "       [ 6.4,  3.2,  4.5,  1.5],\n",
       "       [ 6.9,  3.1,  4.9,  1.5],\n",
       "       [ 5.5,  2.3,  4. ,  1.3],\n",
       "       [ 6.5,  2.8,  4.6,  1.5],\n",
       "       [ 5.7,  2.8,  4.5,  1.3],\n",
       "       [ 5.1,  3.5,  1.4,  0.2],\n",
       "       [ 4.9,  3. ,  1.4,  0.2]])"
      ]
     },
     "execution_count": 862,
     "metadata": {},
     "output_type": "execute_result"
    }
   ],
   "source": [
    "import numpy as np\n",
    "\n",
    "#split dataset\n",
    "data_train = np.array(iris.iloc[:, 0:4])\n",
    "\n",
    "data_train"
   ]
  },
  {
   "cell_type": "code",
   "execution_count": 863,
   "metadata": {
    "collapsed": true
   },
   "outputs": [],
   "source": [
    "cluster_num = 2\n",
    "\n",
    "data = data_train\n",
    "data_num = len(data)\n",
    "col_num = len(data[0])\n",
    "\n",
    "label = []\n",
    "dm = np.zeros(shape=(data_num,data_num))\n",
    "sda = np.zeros(shape=(data_num,3))"
   ]
  },
  {
   "cell_type": "code",
   "execution_count": 864,
   "metadata": {
    "collapsed": true
   },
   "outputs": [],
   "source": [
    "def distance(i1,i2):\n",
    "    dist = 0\n",
    "    for attr in range(col_num):\n",
    "        dist += abs(data[i1][attr] - data[i2][attr])\n",
    "    return dist"
   ]
  },
  {
   "cell_type": "code",
   "execution_count": 865,
   "metadata": {
    "collapsed": true
   },
   "outputs": [],
   "source": [
    "def init():\n",
    "    for i in range(data_num):\n",
    "        label.append(i)\n",
    "\n",
    "    for i1 in range(data_num):\n",
    "        for i2 in range(data_num):\n",
    "            dm[i1][i2] = distance(i1,i2)"
   ]
  },
  {
   "cell_type": "code",
   "execution_count": 866,
   "metadata": {
    "collapsed": true
   },
   "outputs": [],
   "source": [
    "def process_shortest_path():\n",
    "    for i in range(data_num):\n",
    "        j = 0\n",
    "        min = 99999\n",
    "        sda[i][0] = min\n",
    "        sda[i][1] = i\n",
    "        sda[i][2] = j\n",
    "        while j < data_num:\n",
    "            if(dm[i][j] < min and dm[i][j] != 0):\n",
    "                min = dm[i][j]\n",
    "                sda[i][0] = min\n",
    "                sda[i][1] = i\n",
    "                sda[i][2] = j\n",
    "            j += 1"
   ]
  },
  {
   "cell_type": "code",
   "execution_count": 867,
   "metadata": {},
   "outputs": [],
   "source": [
    "def merging():\n",
    "    \n",
    "#     print sda\n",
    "    print label\n",
    "    \n",
    "    process_shortest_path()\n",
    "    \n",
    "    min = sda[0][0]\n",
    "    id1 = sda[0][1]\n",
    "    id2 = sda[0][2]\n",
    "    for i in range(data_num):\n",
    "        if(sda[i][0] < min):\n",
    "            min = sda[i][0]\n",
    "            id1 = sda[i][1]\n",
    "            id2 = sda[i][2]\n",
    "    id1 = id1.astype(np.int64)\n",
    "    id2 = id2.astype(np.int64)\n",
    "    if(id1 < id2):\n",
    "        label[:] = [id1 if x==id2 else x for x in label]\n",
    "    else:\n",
    "        label[:] = [id2 if x==id1 else x for x in label]\n",
    "    dm[id1][id2] = 0\n",
    "    dm[id2][id1] = 0\n",
    "    \n",
    "    for y in range(data_num):\n",
    "        if(dm[id1][y] < dm[id2][y]):\n",
    "            dm[id2][y] = dm[id1][y]\n",
    "        else:\n",
    "            dm[id1][y] = dm[id2][y]\n",
    "    \n",
    "    for x in range(data_num):\n",
    "        if(dm[x][id1] < dm[x][id2]):\n",
    "            dm[x][id2] = dm[x][id1]\n",
    "        else:\n",
    "            dm[x][id1] = dm[x][id2]\n",
    "            \n",
    "    cn = len(list(set(label)))\n",
    "    \n",
    "    if cluster_num != cn:\n",
    "        merging()"
   ]
  },
  {
   "cell_type": "code",
   "execution_count": 868,
   "metadata": {},
   "outputs": [
    {
     "name": "stdout",
     "output_type": "stream",
     "text": [
      "[0, 1, 2, 3, 4, 5, 6, 7, 8, 9, 10, 11]\n",
      "[0, 1, 2, 3, 4, 5, 6, 7, 8, 9, 2, 11]\n",
      "[0, 0, 2, 3, 4, 5, 6, 7, 8, 9, 2, 11]\n",
      "[0, 0, 2, 3, 4, 5, 4, 7, 8, 9, 2, 11]\n",
      "[0, 0, 2, 3, 4, 5, 4, 7, 8, 9, 2, 0]\n",
      "[0, 0, 2, 3, 4, 5, 4, 7, 5, 9, 2, 0]\n",
      "[0, 0, 0, 3, 4, 5, 4, 7, 5, 9, 0, 0]\n",
      "[0, 0, 0, 3, 4, 5, 4, 7, 5, 9, 0, 0]\n",
      "[0, 0, 0, 3, 4, 4, 4, 7, 4, 9, 0, 0]\n",
      "[0, 0, 0, 3, 4, 4, 4, 7, 4, 9, 0, 0]\n",
      "[0, 0, 0, 3, 4, 4, 4, 7, 4, 4, 0, 0]\n",
      "[0, 0, 0, 0, 4, 4, 4, 7, 4, 4, 0, 0]\n",
      "[0, 0, 0, 0, 4, 4, 4, 4, 4, 4, 0, 0]\n",
      "[[ 0.   0.   0.   0.   4.9  5.6  5.6  4.9  5.6  5.1  0.   0. ]\n",
      " [ 0.   0.   0.   0.   5.3  6.2  6.2  5.3  6.2  5.5  0.   0. ]\n",
      " [ 0.   0.   0.   0.   5.   6.   6.   5.   6.   5.2  0.   0. ]\n",
      " [ 0.   0.   0.   0.   4.9  5.6  5.6  4.9  5.6  5.1  0.   0. ]\n",
      " [ 4.9  5.3  5.   4.9  0.   0.   0.   0.   0.   0.   5.   5. ]\n",
      " [ 5.6  6.2  6.   5.6  0.   0.   0.   0.   0.   0.   6.   6. ]\n",
      " [ 5.6  6.2  6.   5.6  0.   0.   0.   0.   0.   0.   6.   6. ]\n",
      " [ 4.9  5.3  5.   4.9  0.   0.   0.   0.   0.   0.   5.   5. ]\n",
      " [ 5.6  6.2  6.   5.6  0.   0.   0.   0.   0.   0.   6.   6. ]\n",
      " [ 5.1  5.5  5.2  5.1  0.   0.   0.   0.   0.   0.   5.2  5.2]\n",
      " [ 0.   0.   0.   0.   5.   6.   6.   5.   6.   5.2  0.   0. ]\n",
      " [ 0.   0.   0.   0.   5.   6.   6.   5.   6.   5.2  0.   0. ]]\n"
     ]
    }
   ],
   "source": [
    "init()\n",
    "merging()\n",
    "print label\n",
    "print dm\n",
    "# process_shortest_path()"
   ]
  },
  {
   "cell_type": "code",
   "execution_count": null,
   "metadata": {
    "collapsed": true
   },
   "outputs": [],
   "source": []
  }
 ],
 "metadata": {
  "kernelspec": {
   "display_name": "Python 2",
   "language": "python",
   "name": "python2"
  },
  "language_info": {
   "codemirror_mode": {
    "name": "ipython",
    "version": 2
   },
   "file_extension": ".py",
   "mimetype": "text/x-python",
   "name": "python",
   "nbconvert_exporter": "python",
   "pygments_lexer": "ipython2",
   "version": "2.7.14"
  }
 },
 "nbformat": 4,
 "nbformat_minor": 2
}
